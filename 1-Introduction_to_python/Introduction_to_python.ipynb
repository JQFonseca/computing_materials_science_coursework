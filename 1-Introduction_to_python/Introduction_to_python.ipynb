{
 "cells": [
  {
   "cell_type": "markdown",
   "metadata": {},
   "source": [
    "# Computational Skills for Materials Science\n",
    "\n",
    "## Session 1 - Introduction: coursework"
   ]
  },
  {
   "cell_type": "markdown",
   "metadata": {},
   "source": [
    "### Name:"
   ]
  },
  {
   "cell_type": "markdown",
   "metadata": {},
   "source": [
    "### Student number:"
   ]
  },
  {
   "cell_type": "markdown",
   "metadata": {
    "heading_collapsed": true
   },
   "source": [
    "###   Importing Modules \n",
    "The following modules are required for the coursework:\n",
    "\n",
    "`matplotlib.pyplot`\n",
    "`numpy`\n",
    "\n",
    "Import them in the cell below using the usual convention (`np` for `numpy` and `plt` for `matplotlib.pyplot`) :"
   ]
  },
  {
   "cell_type": "code",
   "execution_count": null,
   "metadata": {},
   "outputs": [],
   "source": []
  },
  {
   "cell_type": "markdown",
   "metadata": {},
   "source": [
    "## <span style=\"color: red\"> Question 1: </span>  Use latex to rewrite the following equation in terms of y, i.e y=..."
   ]
  },
  {
   "cell_type": "markdown",
   "metadata": {},
   "source": [
    "$4y-12x+6yx=23 $"
   ]
  },
  {
   "cell_type": "markdown",
   "metadata": {},
   "source": [
    "(5 marks)"
   ]
  },
  {
   "cell_type": "code",
   "execution_count": null,
   "metadata": {},
   "outputs": [],
   "source": []
  },
  {
   "cell_type": "markdown",
   "metadata": {},
   "source": [
    "## <span style=\"color: red\"> Question 2: </span> Display the image with the following url: \n",
    "'https://upload.wikimedia.org/wikipedia/commons/thumb/0/09/Glass_fracture.jpg/640px-Glass_fracture.jpg' \n",
    "## in a Markdown cell and give it the title 'Glass fracture' in heading level 3."
   ]
  },
  {
   "cell_type": "markdown",
   "metadata": {},
   "source": [
    "(3 marks)"
   ]
  },
  {
   "cell_type": "code",
   "execution_count": null,
   "metadata": {},
   "outputs": [],
   "source": []
  },
  {
   "cell_type": "markdown",
   "metadata": {},
   "source": [
    "## <span style=\"color: red\"> Question 3: </span> : Using python for simple calculations"
   ]
  },
  {
   "cell_type": "markdown",
   "metadata": {},
   "source": [
    "#### 3.1 Write the formula for the perimeter of a circle using LaTex"
   ]
  },
  {
   "cell_type": "markdown",
   "metadata": {},
   "source": [
    "(2 marks)"
   ]
  },
  {
   "cell_type": "code",
   "execution_count": null,
   "metadata": {},
   "outputs": [],
   "source": []
  },
  {
   "cell_type": "markdown",
   "metadata": {},
   "source": [
    "####  3.2 A circle has a radius of 2mm. Calculate the perimeter of the circle and print the result in format of float to 3 places after the decimal and its unit."
   ]
  },
  {
   "cell_type": "markdown",
   "metadata": {},
   "source": [
    "(3 marks)"
   ]
  },
  {
   "cell_type": "code",
   "execution_count": null,
   "metadata": {},
   "outputs": [],
   "source": []
  },
  {
   "cell_type": "markdown",
   "metadata": {},
   "source": [
    "####  3.2 Using the list below calculate the average and the standard deviation"
   ]
  },
  {
   "cell_type": "code",
   "execution_count": 1,
   "metadata": {},
   "outputs": [],
   "source": [
    "list_of_values=[1010,1008,1011,1009,1000,1012,1009,1013,1003,1004,1005,1000,1003,1008,1015,1016,1014,1019,1005,1002]"
   ]
  },
  {
   "cell_type": "markdown",
   "metadata": {},
   "source": [
    "(2 marks)"
   ]
  },
  {
   "cell_type": "code",
   "execution_count": null,
   "metadata": {},
   "outputs": [],
   "source": []
  },
  {
   "cell_type": "markdown",
   "metadata": {},
   "source": [
    "## <span style=\"color: red\"> Question 4: </span>: Plotting "
   ]
  },
  {
   "cell_type": "markdown",
   "metadata": {},
   "source": [
    "Make plots appear inside the notebook:"
   ]
  },
  {
   "cell_type": "code",
   "execution_count": 2,
   "metadata": {
    "collapsed": true
   },
   "outputs": [],
   "source": [
    "%matplotlib inline"
   ]
  },
  {
   "cell_type": "markdown",
   "metadata": {},
   "source": [
    "### Using the lists of stress and strain values given below:\n",
    "\n",
    "#### 4.1. Sort out the values in ascending order and assign the new arrays to be **\"true_strain\"** and **\"true_stress_1\"** \n",
    "(3 marks)\n",
    "\n",
    "#### 4.2. Plot true_stress_1 (y-axis) against true_strain (x-axis) with a title as 'Tensile Stress-Strain Curve' \n",
    "(3 marks)\n",
    "\n",
    "#### 4.3. Label the y-axis as 'True Stress (MPa)' and the x-axis as 'True Strain [-]' \n",
    "(1 mark)"
   ]
  },
  {
   "cell_type": "code",
   "execution_count": 3,
   "metadata": {},
   "outputs": [],
   "source": [
    "strain = [0.0748, 0.0997, 0.0109, 0.0449, 0.0948, 0.0798, 0.0698, 0.0029, 0.0159, 0.0179, 0.0094, \n",
    "        0.0499, 0.0079, 0.0099, 0.0129, 0.0848, 0.0548, 0.0139, 0.0019, 0.0089, 0.0598, 0.0648, \n",
    "        0.0224, 0.0124, 0.0898, 0.0114, 0.0274, 0.0249, 0.0069, 0.0299, 0.0119, 0.0, 0.0199, \n",
    "        0.0349, 0.0049, 0.0039, 0.0059, 0.0104, 0.0009, 0.0399]\n",
    "stress = [1133.0, 1147.0, 1077.0, 189.0, 1122.0, 1293.0, 1100.0, 1095.0, 1171.0, 1210.0, 1339.0, \n",
    "        1035.0, 1118.0, 1105.0, 1498.0, 818.0, 1475.0, 1114.0, 1110.0, 1159.0, 1407.0, 1270.0, 1247.0, \n",
    "        0.0, 1430.0, 1453.0, 1544.0, 399.0, 1126.0, 1521.0, 1362.0, 1184.0, 1223.0, 1060.0, 1316.0, \n",
    "        1197.0, 977.0, 1089.0, 1384.0, 609.0]"
   ]
  },
  {
   "cell_type": "code",
   "execution_count": null,
   "metadata": {},
   "outputs": [],
   "source": []
  },
  {
   "cell_type": "markdown",
   "metadata": {},
   "source": [
    "### Using the new experimental data **true_stress_2** given below\n"
   ]
  },
  {
   "cell_type": "code",
   "execution_count": 4,
   "metadata": {
    "collapsed": true
   },
   "outputs": [],
   "source": [
    "true_stress_2 = [    0.,    190.8,   402.8,   614.8,   825.8,   986.8,  1046.8,  1073.8,  1092.8,\n",
    "  1106.8,  1113.8,  1119.8,  1125.8,  1131.8,  1136.8,  1141.8,  1146.8,  1151.8,\n",
    "  1160.8,  1178.8,  1194.8,  1210.8,  1228.8,  1246.8,  1264.8,  1282.8,  1316.8,\n",
    "  1349.8,  1382.8,  1415.8,  1448.6,  1481.6,  1513.6,  1546.6,  1579.6,  1612.6,\n",
    "  1644.6,  1677.6,  1710.6,  1743.4]"
   ]
  },
  {
   "cell_type": "markdown",
   "metadata": {},
   "source": [
    "#### 4.4. Plot true_stress_2 (y-axis) against true_strain (x-axis) in the same plot with true_stress_1 \n",
    "(2 marks)\n",
    "\n",
    "#### 4.5. Add a legend to the plot\n",
    "(2 marks)"
   ]
  },
  {
   "cell_type": "code",
   "execution_count": null,
   "metadata": {},
   "outputs": [],
   "source": []
  },
  {
   "cell_type": "markdown",
   "metadata": {
    "collapsed": true
   },
   "source": [
    "## <span style=\"color: red\"> Question 5: </span>: Manipulating 2D arrays\n",
    "\n",
    "Using __iteration and conditionals__, create the 3 2D arrays below and visualize them using `matshow`. \n",
    "<figure>\n",
    "<img src=\"3d_array_example.png\" width='800'>\n",
    "<figcaption></figcaption>\n",
    "</figure>\n",
    "\n",
    "where red=0 and blue=1.\n",
    "\n",
    "(10 marks)\n"
   ]
  },
  {
   "cell_type": "code",
   "execution_count": null,
   "metadata": {},
   "outputs": [],
   "source": []
  }
 ],
 "metadata": {
  "anaconda-cloud": {},
  "kernelspec": {
   "display_name": "Python 3",
   "language": "python",
   "name": "python3"
  },
  "language_info": {
   "codemirror_mode": {
    "name": "ipython",
    "version": 3
   },
   "file_extension": ".py",
   "mimetype": "text/x-python",
   "name": "python",
   "nbconvert_exporter": "python",
   "pygments_lexer": "ipython3",
   "version": "3.8.3"
  }
 },
 "nbformat": 4,
 "nbformat_minor": 1
}
