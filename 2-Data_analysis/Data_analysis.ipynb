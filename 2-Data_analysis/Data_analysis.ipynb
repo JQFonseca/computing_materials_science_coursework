{
 "cells": [
  {
   "cell_type": "markdown",
   "metadata": {},
   "source": [
    "# Computational Skills for Materials Science\n",
    "\n",
    "## Session 2 - Data Analysis: coursework"
   ]
  },
  {
   "cell_type": "markdown",
   "metadata": {},
   "source": [
    "### Name:"
   ]
  },
  {
   "cell_type": "markdown",
   "metadata": {},
   "source": [
    "### Student number:"
   ]
  },
  {
   "cell_type": "markdown",
   "metadata": {},
   "source": [
    "#### Measuring the distance between atoms using time of flight neutron diffraction\n",
    "\n",
    "For this coursework we will look at analysing some data from a time-of-flight neutron diffraction experiment on an aerospace aluminium alloy sample.\n",
    "\n",
    "Time-of-flight neutron diffraction uses neutrons to measure the distance between atoms. In this technique, a white neutron beam is shone on the sample and large detectors are used to collect the neutrons that are scattered off. The beam is \"white\" because it contains neutrons with many different velocities and hence different wavelengths. However not all wavelengths are scattered equally: those with wavelengths closer to regular spacing of the atoms in the crystal interfere constructively and scatter much more strongly. This means we can measure the distance between the atoms in the sample by counting how many neutrons are scattered of which wavelength. This is very useful in materials science: we can use this distance to measure the stress in a material, to measure its thermal expansion, to determine its structure and much more.\n",
    "\n",
    "In [time-of-flight diffraction](http://nmi3.eu/neutron-research/techniques-for-/dynamics/time-of-flight-spectroscopy.html), we use the fact that neutrons with different wavelengths have different velocities, as described by the de Broglie equation:\n",
    "\n",
    "$$p=mv=\\dfrac{h}{\\lambda}$$\n",
    "\n",
    "where $p$ is momentum, $m$ is the mass of a neutron, $v$ its velocity and $\\lambda$ its wavelength.\n",
    "\n",
    "These velocities are not very high. For example, a neutron with a wavelength of $1 \\, \\mathrm{nm}$ has a velocity of:\n",
    "\n",
    "$$v=\\dfrac{h}{\\lambda m}=\\dfrac{6.626 \\times 10^{-34}}{1.0\\times 10^{-9}\\times 1.675 \\times 10^{-27}} = 395.6 \\quad \\mathrm{m\\,s^{-1}} $$\n",
    "\n",
    "which just over the speed of sound. In a time-of-flight experiment we send out neutrons in pulses and then count how many scattered neutrons arrive at different times. Of course since time can be converted into wavelength, it can be converted into the spacing between the atoms diffracting, also called the d-spacing.\n",
    "\n",
    "Neutrons are difficult to detect, so neutron detectors can be very big:\n",
    "\n",
    "![ToF detectors at FMRII in Germany](https://nmi3.eu/toftof-rex_img_type=content_noresize&rex_img_file=toftof.jpg.jpg)\n",
    "\n",
    "Neutron counts are statistical measurements, which need to be analysed to give the required interatomic distances. In this coursework you'll be working with data from [ISIS](http://www.isis.stfc.ac.uk/), a neutron source near Harwell in the UK. Each file contains the number of neutrons (intensity) detected that correspond to a given atomic spacing (d-spacing). You will use the data to determine the d-spacing of the material.\n"
   ]
  },
  {
   "cell_type": "markdown",
   "metadata": {},
   "source": [
    "###  Importing modules\n",
    "\n",
    "The modules that you will need for this coursework are: \n",
    "\n",
    "`numpy`, `matplotlib.pyplot` and `curve_fit` from `scipy.optimize`\n",
    "\n",
    "#### These modules can be imported by running the cell below:\n"
   ]
  },
  {
   "cell_type": "code",
   "execution_count": 2,
   "metadata": {},
   "outputs": [],
   "source": [
    "import numpy as np\n",
    "import matplotlib.pyplot as plt\n",
    "from scipy.optimize import curve_fit"
   ]
  },
  {
   "cell_type": "markdown",
   "metadata": {},
   "source": [
    "### <span style=\"color: red\"> Question 1: </span>  Reading and plotting data:\n",
    "\n",
    "You can find the diffraction data for this exercise in the `/coursework_data/` folder. There are 4 files with each one increasing the neutron counting times from the previous one. \n",
    "\n",
    "We will start our analysis with the first file. Open `spectrum_1.txt` using a text editor and examine the data. The first column is the d-spacing between adjacent lattice planes in Angstrom and the second column is the intensity in units of neutron counts.\n"
   ]
  },
  {
   "cell_type": "markdown",
   "metadata": {},
   "source": [
    "#### 1.1 : Read in the two columns of data from `spectrum_1.txt` into arrays called `d_spacing` and `intensity` using the function `np.loadtxt()` in the cell below:\n",
    "(5 marks)\n",
    "\n",
    " *Hints:*\n",
    " * *Remember how we read in the data for size of pores in a metal foam in the class notebook.*\n",
    " * *You will need to skip the first row of the data, which contains the header.*\n",
    " * *Use `print()` to check you have read the right data.*"
   ]
  },
  {
   "cell_type": "markdown",
   "metadata": {},
   "source": [
    "#### 1.2: Using `plt.plot()`, plot the intensity as a function of d-spacing, label the x axis as `'d-spacing (Ang)'` and the y axis as `'Intensity (counts)'`:\n",
    "(10 marks)\n",
    "\n",
    "*Hints:*\n",
    "* *Don't forget to add `%matplotlib inline` to make sure your plot appears in the notebook.* \n",
    "* *You can also try `%matplotlib notebook` instead of `%matplotlib inline` for an interactive plot.*"
   ]
  },
  {
   "cell_type": "markdown",
   "metadata": {},
   "source": [
    "### <span style=\"color: red\"> Question 2: </span>  Fitting a model to the data:\n",
    "\n",
    "Next, we want to concentrate on one of the peaks which is at approximately 2 Angstroms d-spacing and fit a curve to that peak. \n",
    "\n",
    "We have saved the data in the interval where the peak lies [1.96, 2.1] in a new file called `spectrum_1_2Ang.txt`. Run the cell below to load the data into arrays `d_spacing_2 ` and `intensity_2`:"
   ]
  },
  {
   "cell_type": "code",
   "execution_count": 45,
   "metadata": {},
   "outputs": [],
   "source": [
    "d_spacing_2 = np.loadtxt('coursework_data/spectrum_1_2Ang.txt', skiprows=1,usecols=(0,))\n",
    "intensity_2 = np.loadtxt('coursework_data/spectrum_1_2Ang.txt', skiprows=1,usecols=(1,))"
   ]
  },
  {
   "cell_type": "markdown",
   "metadata": {},
   "source": [
    "#### 2.1: Repeat 1.2 for the truncated arrays `intensity_2` and `d_spacing_2` to plot the peak at 2 Ang.\n",
    "(5 marks)"
   ]
  },
  {
   "cell_type": "markdown",
   "metadata": {},
   "source": [
    "We expect the intensity peak to fit a Gaussian function with the following relationship:\n",
    "\n",
    "$$f(x) = A \\exp\\Big(-\\frac{(x-\\mu)^2}{2\\sigma^2}\\Big), $$\n",
    "\n",
    "where $A$ is the intensity peak, $x$ is the d-spacing, $\\mu$ is the mean d-spacing of the distribution (the central value) and $\\sigma$ is the standard deviation. \n",
    "\n",
    "\n",
    "#### 2.2: Define a function `gauss` that takes `x`, `A`, `mu` and `sigma` as the input and holds the form of a Gaussian function as the output: \n",
    "\n",
    "(10 marks)"
   ]
  },
  {
   "cell_type": "markdown",
   "metadata": {},
   "source": [
    "#### 2.3: Use <code>curve_fit</code> to fit the model `gauss` to the data in our arrays `d_spacing_2` and `intensity_2` and assign the  result to variables called `popt` and `pcov`. \n",
    "(10 marks)\n",
    "\n",
    "*Hints:*\n",
    "* *Remember that `curve_fit` returns two numpy arrays, which we call here `popt` and `pcov` (but can be called anything you want).*\n",
    "* *The first variable `popt` is a numpy array which contains the optimised values of the parameters of the model: A - the peak intensity, `mu` - the mean d-spacing and `sigma` - the standard deviation.* "
   ]
  },
  {
   "cell_type": "markdown",
   "metadata": {},
   "source": [
    "#### 2.4  Plot the original data and the fitted model for the peak at 2 Angstroms to check how good your fit is. \n",
    "(10 marks)"
   ]
  },
  {
   "cell_type": "markdown",
   "metadata": {},
   "source": [
    "### <span style=\"color: red\"> Question 3: </span>  Statistics:\n",
    "\n",
    "In a neutron diffraction experiment, the counting time is a parameter which we can increase to get better statistics and improve the accuracy of our results. We have repeated the steps in Question 1 and 2, for three more sets of data with increasing counting times called `spectrum_10.txt`, `spectrum_20.txt` and `spectrum_30.txt`. You can find the results in `diffraction_results.txt`.\n",
    "\n",
    "*Hint:*\n",
    "* *`diffraction_results.txt` also contains the results for `spectrum_1.txt` so you can check that your answer to Question 2.6 is correct. Note the answers will vary slightly.*\n",
    "* *If you are interested in practicing, you can try fitting the data from the extra files yourself.*\n"
   ]
  },
  {
   "cell_type": "markdown",
   "metadata": {},
   "source": [
    "#### 3.1: Read in the data from `diffraction_results.txt` into arrays `data_number` and `means`:\n",
    "(5 marks)"
   ]
  },
  {
   "cell_type": "markdown",
   "metadata": {},
   "source": [
    "#### 3.2: Plot how the mean value (`means`) varies with increasing the sample number (`data_number`) i.e. with increasing the neutron counting time and comment on the trend that you see:\n",
    "(10 marks)"
   ]
  },
  {
   "cell_type": "markdown",
   "metadata": {
    "heading_collapsed": true
   },
   "source": [
    "#### 3.3: Write the sample number and mean values into a text file called `output.txt`, using justified formatting.\n",
    "(10 marks)"
   ]
  },
  {
   "cell_type": "markdown",
   "metadata": {},
   "source": [
    "### <span style=\"color: red\">Question 4</span>: Aluminium has a face-centred cubic structure. The peak at 2 angstroms corresponds to a set of planes $(hkl)$ with a characteristic d-spacing. Can you find which set of planes $(hkl)$  this d-spacing corresponds to?\n",
    "(10 marks)\n",
    "\n",
    "*Hint:*\n",
    "* *The d-spacing of a set of planes $(hkl)$ in the cubic crystal structure is given by: $d = \\sqrt{\\frac{a^2}{h^2+k^2+l^2}}$, where $a$ is the lattice parameter. *"
   ]
  }
 ],
 "metadata": {
  "anaconda-cloud": {},
  "kernelspec": {
   "display_name": "Python 3",
   "language": "python",
   "name": "python3"
  },
  "language_info": {
   "codemirror_mode": {
    "name": "ipython",
    "version": 3
   },
   "file_extension": ".py",
   "mimetype": "text/x-python",
   "name": "python",
   "nbconvert_exporter": "python",
   "pygments_lexer": "ipython3",
   "version": "3.8.3"
  },
  "nav_menu": {},
  "toc": {
   "navigate_menu": true,
   "number_sections": false,
   "sideBar": true,
   "threshold": 6,
   "toc_cell": false,
   "toc_section_display": "block",
   "toc_window_display": true
  }
 },
 "nbformat": 4,
 "nbformat_minor": 1
}
