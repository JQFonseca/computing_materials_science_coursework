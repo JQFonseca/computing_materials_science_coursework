{
 "cells": [
  {
   "cell_type": "markdown",
   "metadata": {},
   "source": [
    "# Image Analysis - Coursework"
   ]
  },
  {
   "cell_type": "code",
   "execution_count": 1,
   "metadata": {},
   "outputs": [],
   "source": [
    "#Import the modules required for the notebook\n",
    "import numpy as np\n",
    "import matplotlib.pyplot as plt\n",
    "%matplotlib inline\n",
    "from skimage import io, exposure, measure\n",
    "from skimage.filters import threshold_otsu\n",
    "import skimage.morphology"
   ]
  },
  {
   "cell_type": "markdown",
   "metadata": {},
   "source": [
    "[Ni superalloys](https://en.wikipedia.org/wiki/Superalloy) are amazing materials. Whereas most alloys become softer as the temperature increases, the alloys maintain their strength at very high temperatures and sometimes even get stronger! This ability, combined with their excellent corrosion resistance and toughness have made them the alloy of choice in high temperature applications like jet engines.\n",
    "\n",
    "\n",
    "The image in the file *Coarse_250kx.tif* is a scanning electron microscope (SEM) image of RR1000, a nickel superalloy developed by Rolls-Royce. In this alloy, the high temperature strength of the alloys originates from the presence of small particles of an [ordered intermetalic](https://en.wikipedia.org/wiki/Intermetallic) phase called $\\gamma\\prime$ (gamma prime).\n",
    "\n",
    "\n",
    "The image in file *Coarse_250kx.tif* is of a RR1000 sample where the particles have been etched away to leave behind dark holes which have the same shape and size as the $\\gamma\\prime$ particles."
   ]
  },
  {
   "cell_type": "markdown",
   "metadata": {},
   "source": [
    "## <span style=\"color: red\"> Question 1</span> \n",
    "### 1.1 Use the <code>skimage</code> library and <code>matplotlib</code> to read in and display the image \"Coarse_250kx.tif\":\n",
    "(5 marks)"
   ]
  },
  {
   "cell_type": "code",
   "execution_count": null,
   "metadata": {
    "collapsed": true
   },
   "outputs": [],
   "source": []
  },
  {
   "cell_type": "markdown",
   "metadata": {},
   "source": [
    "### 1.2 Plot the intensity histogram for the image\n",
    "(5 marks)"
   ]
  },
  {
   "cell_type": "code",
   "execution_count": null,
   "metadata": {
    "collapsed": true
   },
   "outputs": [],
   "source": []
  },
  {
   "cell_type": "markdown",
   "metadata": {},
   "source": [
    "## <span style=\"color: red\"> Question 2</span>\n",
    "### 2.1 Use manual thresholding to create a binary (black and white) image of the particles and display it. \n",
    "(10 marks)"
   ]
  },
  {
   "cell_type": "code",
   "execution_count": null,
   "metadata": {
    "collapsed": true
   },
   "outputs": [],
   "source": []
  },
  {
   "cell_type": "markdown",
   "metadata": {},
   "source": [
    "### 2.2 </span> Use  Otsu's threshhold method to threshold the image and display it. \n",
    "(10 marks)"
   ]
  },
  {
   "cell_type": "code",
   "execution_count": null,
   "metadata": {
    "collapsed": true
   },
   "outputs": [],
   "source": []
  },
  {
   "cell_type": "markdown",
   "metadata": {},
   "source": [
    "### 2.3  Display the two thresholded images side by side.\n",
    "(10 marks)"
   ]
  },
  {
   "cell_type": "code",
   "execution_count": null,
   "metadata": {
    "collapsed": true
   },
   "outputs": [],
   "source": []
  },
  {
   "cell_type": "markdown",
   "metadata": {},
   "source": [
    "### 2.4  Display an image showing the difference between the two images.\n",
    "(10 marks)"
   ]
  },
  {
   "cell_type": "code",
   "execution_count": null,
   "metadata": {
    "collapsed": true
   },
   "outputs": [],
   "source": []
  },
  {
   "cell_type": "markdown",
   "metadata": {},
   "source": [
    "## <span style=\"color: red\"> Question 3</span> "
   ]
  },
  {
   "cell_type": "markdown",
   "metadata": {},
   "source": [
    "### 3.1 Use the <code>label</code> and <code>unique</code> function in <code>scipy.measure</code> to display an image with the dark hole at the centre of the image.\n",
    "(10 marks)"
   ]
  },
  {
   "cell_type": "code",
   "execution_count": null,
   "metadata": {
    "collapsed": true
   },
   "outputs": [],
   "source": []
  },
  {
   "cell_type": "markdown",
   "metadata": {},
   "source": [
    "### 3.2 Use the <code>measure</code> function to measure the size (equivalent diameter) of the particle that existed in this hole before etching.\n",
    "(10 marks)"
   ]
  },
  {
   "cell_type": "code",
   "execution_count": null,
   "metadata": {
    "collapsed": true
   },
   "outputs": [],
   "source": []
  },
  {
   "cell_type": "markdown",
   "metadata": {},
   "source": [
    "### 3.3 Write the equivalent diameters of all particles which cover more than 10 pixels to a .txt file called diameters.txt \n",
    "(15 marks)"
   ]
  },
  {
   "cell_type": "code",
   "execution_count": null,
   "metadata": {
    "collapsed": true
   },
   "outputs": [],
   "source": []
  },
  {
   "cell_type": "markdown",
   "metadata": {},
   "source": [
    "## <span style=\"color: red\"> Question 4:</span> \n",
    "### The image \"scalebar.png' contains a scale bar for the particle image you analysed above. What is the size (in nanometres) of the particle you measured in question 3.2?\n",
    "(15 marks)"
   ]
  },
  {
   "cell_type": "code",
   "execution_count": null,
   "metadata": {
    "collapsed": true
   },
   "outputs": [],
   "source": []
  }
 ],
 "metadata": {
  "anaconda-cloud": {},
  "kernelspec": {
   "display_name": "Python 3",
   "language": "python",
   "name": "python3"
  },
  "language_info": {
   "codemirror_mode": {
    "name": "ipython",
    "version": 3
   },
   "file_extension": ".py",
   "mimetype": "text/x-python",
   "name": "python",
   "nbconvert_exporter": "python",
   "pygments_lexer": "ipython3",
   "version": "3.6.6"
  }
 },
 "nbformat": 4,
 "nbformat_minor": 1
}
