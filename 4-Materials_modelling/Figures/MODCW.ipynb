{
 "cells": [
  {
   "cell_type": "markdown",
   "metadata": {},
   "source": [
    "#Computational Skills for Materials Science\n",
    "\n",
    "##Session 4 - Modelling: coursework"
   ]
  },
  {
   "cell_type": "markdown",
   "metadata": {},
   "source": [
    "###Name:"
   ]
  },
  {
   "cell_type": "code",
   "execution_count": null,
   "metadata": {
    "collapsed": true
   },
   "outputs": [],
   "source": []
  },
  {
   "cell_type": "markdown",
   "metadata": {},
   "source": [
    "###Student number:"
   ]
  },
  {
   "cell_type": "code",
   "execution_count": null,
   "metadata": {
    "collapsed": true
   },
   "outputs": [],
   "source": []
  },
  {
   "cell_type": "markdown",
   "metadata": {},
   "source": [
    "In this week's notebook we modelled atomic bonds as springs whose behaviour followed that described by Hooke's law.  According to Hooke's law an applied force results in a linear extension of the spring.  If such an extended spring is then released, a mass attached to the spring's end will undergo simple harmonic motion (SHM).  SHM appears frequently in nature; the pendulum in a grandfather clock, the balance in a mechanical wrist watch and a bungee jumper bouncing up and down are all examples of SHM.  The French physicist Jean Foucault used a long Pendulm to prove that the Earth rotated upon its axis.  Again this is an example of SHM and such a Foucault Pendulm can be seen in the Manchester Conference Centre on Sackville Street.  In this week's homework we will create a computer model to simulate SHM and explore its behaviour.\n",
    "\n",
    "<figure>\n",
    "<img src=\"Figures/F_pendulum1.jpg\" width='500'>\n",
    "<figcaption></figcaption>\n",
    "</figure>\n",
    "\n",
    "<figure>\n",
    "<img src=\"Figures/F_pendulum2.jpg\" width='500'>\n",
    "<figcaption></figcaption>\n",
    "</figure>"
   ]
  },
  {
   "cell_type": "markdown",
   "metadata": {},
   "source": [
    "####Simple Harmonic Motion (SHM)\n",
    "\n",
    "The defining feature of a system that exhibits SHM is that the restoring force acting upon the system is proportional to and in the opposite direction to the displacement from the equalibrium position. The restoring force is that which acts to return the system to its equalibrium state. For example the maximum restoring force that occurs in a pendulum's cycle happens when when the pendulum bob is at its maximum displacement from the equalibrium point. The restoring force acts in the opposite direction to the displacement, which is back towards the equalibrium point. When the pendulum bob is reaches the equilibrium point (ie the pendulum arm is vertical), the restroing force is zero and the pendulums momentum keps it in motion. Thus there is a cycle of maximum momentum and zero force, at the equalibrium point, and zero momentum and maximum restoring force at the point of greatest displacement.\n",
    "Some of you may have questioned why, if SHM is a continuous cycle, does a bungee jumper not bounce forever, or a mechanical watch never need winding? In the real world the amplitude of the oscillations diminishes as the system loses energy. This is advantageous for the bungee jumper who doesn't want to be bouncing forever, but disadvantageous for the owner of a mechanical watch. Energy is lost from an oscillating system by a number a mechanisms, notably through friction, which converts some of the kinetic energy into heat. This loss of amplitude is known as 'dampling' and results in a damped simple harmonic oscillator. The level of dampling can be adjusted. Thus engineers can alter the level of dampling to give an oscillator a desired behaviour."
   ]
  },
  {
   "cell_type": "markdown",
   "metadata": {},
   "source": [
    "The defining feature of a system that exhibits SHM is that the restoring force acting upon the system is proportional to and in the opposite direction to the displacement from the equalibrium position.  The restoring force is that which acts to return the system to its equalibrium state.  For example the maximum restoring force that occurs in a pendulum's cycle happens when when the pendulum bob is at its maximum displacement from the equalibrium point.  The restoring force acts in the opposite direction to the displacement, which is back towards the equalibrium point.  When the pendulum bob is reaches the equilibrium point (ie the pendulum arm is vertical), the restroing force is zero and the pendulums momentum keps it in motion.  Thus there is a cycle of maximum momentum and zero force, at the equalibrium point, and zero momentum and maximum restoring force at the point of greatest displacement.\n",
    "\n",
    "Some of you may have questioned why, if SHM is a continuous cycle, does a bungee jumper not bounce forever, or a mechanical watch never need winding?  In the real world the amplitude of the oscillations diminishes as the system loses energy.  This is advantageous for the bungee jumper who doesn't want to be bouncing forever, but disadvantageous for the owner of a mechanical watch.  Energy is lost from an oscillating system by a number a mechanisms, notably through friction, which converts some of the kinetic energy into heat.  This loss of amplitude is known as 'dampling' and results in a damped simple harmonic oscillator.  The level of dampling can be adjusted.  Thus engineers can alter the level of dampling to give an oscillator a desired behaviour."
   ]
  },
  {
   "cell_type": "code",
   "execution_count": null,
   "metadata": {
    "collapsed": true
   },
   "outputs": [],
   "source": []
  }
 ],
 "metadata": {
  "kernelspec": {
   "display_name": "Python 2",
   "language": "python",
   "name": "python2"
  },
  "language_info": {
   "codemirror_mode": {
    "name": "ipython",
    "version": 2
   },
   "file_extension": ".py",
   "mimetype": "text/x-python",
   "name": "python",
   "nbconvert_exporter": "python",
   "pygments_lexer": "ipython2",
   "version": "2.7.6"
  }
 },
 "nbformat": 4,
 "nbformat_minor": 0
}
